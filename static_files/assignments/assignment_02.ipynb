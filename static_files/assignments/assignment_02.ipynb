{
 "cells": [
  {
   "cell_type": "markdown",
   "metadata": {
    "button": false,
    "colab_type": "text",
    "id": "-woU4Sodh6ND",
    "new_sheet": false,
    "run_control": {
     "read_only": false
    }
   },
   "source": [
    "# Assignment #2\n",
    "\n",
    "\n",
    "Deep Learning / Fall 1398, Iran University of Science and Technology\n",
    "\n",
    "\n",
    "\n",
    "---\n",
    "\n"
   ]
  },
  {
   "cell_type": "markdown",
   "metadata": {
    "button": false,
    "colab_type": "text",
    "id": "JWitIy1viFuD",
    "new_sheet": false,
    "run_control": {
     "read_only": false
    }
   },
   "source": [
    "**Please pay attention to these notes:**\n",
    "\n",
    "<br/>\n",
    "- **Assignment Due: ** 1398/9/23 23:59\n",
    "- If you need any additional information, please review the assignment page on the course website.\n",
    "- We always recommend co-operation and discussion in groups for assignments. However, each student has to finish all the questions by himself/herself. If our matching system identifies any sort of copying, you'll be responsible for consequences. So, please mention his/her name if you have a team-mate.\n",
    "- Students who audit this course should submit their assignments like other students to be qualified for attending the rest of the sessions.\n",
    "- Finding any sort of copying will zero down that assignment grade and also will be counted as two negative assignment for your final score.\n",
    "- When you are ready to submit, please follow the instructions at the end of this notebook.\n",
    "- If you have any questions about this assignment, feel free to drop us a line. You may also post your questions on the course Forum page.\n",
    "- You must run this notebook on Google Colab platform, it depends on Google Colab VM for some of its dependencies.\n",
    "- **Before starting to work on the assignment Please fill your name in the next section *AND Remember to RUN the cell.* **\n",
    "\n",
    "<br/>\n",
    "\n",
    "\n",
    "Assignment Page: [https://iust-deep-learning.github.io/981/assignments/02_image_task_and_visualization](https://iust-deep-learning.github.io/981/assignments/02_image_task_and_visualization)\n",
    "\n",
    "Course Forum: [https://groups.google.com/forum/#!forum/dl981/](https://groups.google.com/forum/#!forum/dl981/)"
   ]
  },
  {
   "cell_type": "markdown",
   "metadata": {
    "button": false,
    "colab_type": "text",
    "id": "0ejALNiDCWnd",
    "new_sheet": false,
    "run_control": {
     "read_only": false
    }
   },
   "source": [
    "\n",
    "\n",
    "---\n",
    "\n"
   ]
  },
  {
   "cell_type": "markdown",
   "metadata": {
    "button": false,
    "colab_type": "text",
    "id": "Vjwf6dWNCIQP",
    "new_sheet": false,
    "run_control": {
     "read_only": false
    }
   },
   "source": [
    "Fill your information here & run the cell"
   ]
  },
  {
   "cell_type": "code",
   "execution_count": null,
   "metadata": {
    "button": false,
    "cellView": "form",
    "colab": {},
    "colab_type": "code",
    "id": "NeLkOPE6Qwr7",
    "new_sheet": false,
    "run_control": {
     "read_only": false
    }
   },
   "outputs": [],
   "source": [
    "#@title Enter your information & \"RUN the cell!!\" { run: \"auto\" }\n",
    "student_id = 0 #@param {type:\"integer\"}\n",
    "student_name = \"\" #@param {type:\"string\"}\n",
    "Your_Github_account_Email = \"\" #@param {type:\"string\"}\n",
    "\n",
    "print(\"your student id:\", student_id)\n",
    "print(\"your name:\", student_name)\n",
    "\n",
    "\n",
    "from pathlib import Path\n",
    "\n",
    "ASSIGNMENT_PATH = Path('asg02')\n",
    "ASSIGNMENT_PATH.mkdir(parents=True, exist_ok=True)"
   ]
  },
  {
   "cell_type": "markdown",
   "metadata": {
    "button": false,
    "colab_type": "text",
    "id": "QfSFVOaKvlDb",
    "new_sheet": false,
    "run_control": {
     "read_only": false
    }
   },
   "source": [
    "# 1. Special Bus Line"
   ]
  },
  {
   "cell_type": "markdown",
   "metadata": {
    "button": false,
    "colab_type": "text",
    "id": "UmprL4aETrj8",
    "new_sheet": false,
    "run_control": {
     "read_only": false
    }
   },
   "source": [
    "Consider the public transport bus service. It has many gates on roads in the city and a particular lane for bus transportation.\n",
    "\n",
    "\n",
    "This lane is also used for the transportation of emergency vehicles like ambulances, police cars and fire trucks, and private cars are banned from using it.\n",
    "\n",
    "\n",
    "Your task is to create a system to classify these two classes of vehicles."
   ]
  },
  {
   "cell_type": "markdown",
   "metadata": {
    "button": false,
    "colab_type": "text",
    "id": "NLU26ncrYZL5",
    "new_sheet": false,
    "run_control": {
     "read_only": false
    }
   },
   "source": [
    "### Dataset\n",
    "---\n",
    "In this task, you should build your dataset based on an arbitrary approach. Of course, we suggest having a look at [this](https://forums.fast.ai/t/tips-for-building-large-image-datasets/26688) link if you do not have any idea about making the dataset.\n",
    "\n"
   ]
  },
  {
   "cell_type": "markdown",
   "metadata": {
    "button": false,
    "colab_type": "text",
    "id": "tFqWPWvot29x",
    "new_sheet": false,
    "run_control": {
     "read_only": false
    }
   },
   "source": [
    "Please explain your dataset making method."
   ]
  },
  {
   "cell_type": "markdown",
   "metadata": {
    "button": false,
    "colab_type": "text",
    "id": "Ob0fG9c9ws5w",
    "new_sheet": false,
    "run_control": {
     "read_only": false
    }
   },
   "source": [
    "$\\color{red}{\\text{Write your answer here}}$"
   ]
  },
  {
   "cell_type": "markdown",
   "metadata": {
    "colab_type": "text",
    "id": "otcIUS2gUwls"
   },
   "source": [
    "### Implementation\n",
    "---\n",
    "You can use from Keras in this assignment.\n",
    "\n",
    "Preprocess your data in this cell."
   ]
  },
  {
   "cell_type": "code",
   "execution_count": null,
   "metadata": {
    "colab": {},
    "colab_type": "code",
    "id": "fwi-sxIHWC5A"
   },
   "outputs": [],
   "source": []
  },
  {
   "cell_type": "markdown",
   "metadata": {
    "colab_type": "text",
    "id": "otcIUS2gUwls"
   },
   "source": [
    "Build and train your model in the following cell.\n",
    "\n",
    "Use generator and augmentation in order to feed data to the network."
   ]
  },
  {
   "cell_type": "code",
   "execution_count": null,
   "metadata": {},
   "outputs": [],
   "source": []
  },
  {
   "cell_type": "markdown",
   "metadata": {
    "colab_type": "text",
    "id": "otcIUS2gUwls"
   },
   "source": [
    "Now, test your model, report the f1-score, recall and precision, and then save the model in a file with path 'ASSIGNMENT_PATH / 'my_model.h5''.\n",
    "\n",
    "Plot loss and accuracy."
   ]
  },
  {
   "cell_type": "code",
   "execution_count": null,
   "metadata": {},
   "outputs": [],
   "source": []
  },
  {
   "cell_type": "markdown",
   "metadata": {
    "button": false,
    "colab_type": "text",
    "id": "tFqWPWvot29x",
    "new_sheet": false,
    "run_control": {
     "read_only": false
    }
   },
   "source": [
    "Please explain that what type of loss and accuracy you set for training your model and why?"
   ]
  },
  {
   "cell_type": "markdown",
   "metadata": {
    "button": false,
    "colab_type": "text",
    "id": "Ob0fG9c9ws5w",
    "new_sheet": false,
    "run_control": {
     "read_only": false
    }
   },
   "source": [
    "$\\color{red}{\\text{Write your answer here}}$"
   ]
  },
  {
   "cell_type": "markdown",
   "metadata": {
    "colab_type": "text",
    "id": "otcIUS2gUwls"
   },
   "source": [
    "Visualize some layers and analyze them."
   ]
  },
  {
   "cell_type": "code",
   "execution_count": null,
   "metadata": {},
   "outputs": [],
   "source": []
  },
  {
   "cell_type": "markdown",
   "metadata": {
    "button": false,
    "colab_type": "text",
    "id": "Ob0fG9c9ws5w",
    "new_sheet": false,
    "run_control": {
     "read_only": false
    }
   },
   "source": [
    "$\\color{red}{\\text{Write your answer here}}$"
   ]
  },
  {
   "cell_type": "markdown",
   "metadata": {
    "button": false,
    "colab_type": "text",
    "id": "pBjq-MvamPXO",
    "new_sheet": false,
    "run_control": {
     "read_only": false
    }
   },
   "source": [
    "# Submission"
   ]
  },
  {
   "cell_type": "markdown",
   "metadata": {
    "button": false,
    "colab_type": "text",
    "id": "7o4q5LiFiOx1",
    "new_sheet": false,
    "run_control": {
     "read_only": false
    }
   },
   "source": [
    "Congratulations! You finished the assignment & you're ready to submit your work. Please follow the instruction:\n",
    "\n",
    "1. Check and review your answers. Make sure all of the cell outputs are what you want. \n",
    "2. Select File > Save.\n",
    "3. Run **Create Submission** cell, It may take several minutes and it may ask you for your credential.\n",
    "4. Run **Download Submission** cell to obtain your submission as a zip file.\n",
    "5. Grab downloaded file (`dl_asg02__xx__xx.zip`) and submit it via [https://forms.gle/Fb7gvVJHp8RePvo6A](https://forms.gle/Fb7gvVJHp8RePvo6A)."
   ]
  },
  {
   "cell_type": "markdown",
   "metadata": {
    "button": false,
    "colab_type": "text",
    "id": "iWRUf35av3ZP",
    "new_sheet": false,
    "run_control": {
     "read_only": false
    }
   },
   "source": [
    "**Note: ** We need your Github token to create (if doesn't exist previously) new repository to store learned model data. Also Google Drive token enables us to download the current notebook & create a submission. If you are interested feel free to check our code."
   ]
  },
  {
   "cell_type": "markdown",
   "metadata": {
    "button": false,
    "colab_type": "text",
    "id": "cTytERc-vlaK",
    "new_sheet": false,
    "run_control": {
     "read_only": false
    }
   },
   "source": [
    "## Create Submission (Run the cell)"
   ]
  },
  {
   "cell_type": "code",
   "execution_count": null,
   "metadata": {
    "button": false,
    "cellView": "both",
    "colab": {},
    "colab_type": "code",
    "id": "r4o37hc3AEUg",
    "new_sheet": false,
    "run_control": {
     "read_only": false
    }
   },
   "outputs": [],
   "source": [
    "#@title\n",
    "! pip install -U --quiet PyDrive > /dev/null\n",
    "! wget -q https://github.com/github/hub/releases/download/v2.10.0/hub-linux-amd64-2.10.0.tgz \n",
    "  \n",
    "import os\n",
    "import time\n",
    "import yaml\n",
    "import json\n",
    "\n",
    "from google.colab import files\n",
    "from IPython.display import Javascript\n",
    "from pydrive.auth import GoogleAuth\n",
    "from pydrive.drive import GoogleDrive\n",
    "from google.colab import auth\n",
    "from oauth2client.client import GoogleCredentials\n",
    "\n",
    "asg_name = 'assignment_02'\n",
    "script_save = '''\n",
    "require([\"base/js/namespace\"],function(Jupyter) {\n",
    "    Jupyter.notebook.save_checkpoint();\n",
    "});\n",
    "'''\n",
    "repo_name = 'iust-deep-learning-assignments'\n",
    "submission_file_name = 'dl_asg02__%s__%s.zip'%(student_id, student_name.lower().replace(' ',  '_'))\n",
    "\n",
    "! tar xf hub-linux-amd64-2.10.0.tgz\n",
    "! cd hub-linux-amd64-2.10.0/ && chmod a+x install && ./install\n",
    "! hub config --global hub.protocol https\n",
    "! hub config --global user.email \"$Your_Github_account_Email\"\n",
    "! hub config --global user.name \"$student_name\"\n",
    "! hub api --flat -X GET /user\n",
    "! hub api -F affiliation=owner -X GET /user/repos > repos.json\n",
    "\n",
    "repos = json.load(open('repos.json'))\n",
    "repo_names = [r['name'] for r in repos]\n",
    "has_repository = repo_name in repo_names\n",
    "if not has_repository:\n",
    "  get_ipython().system_raw('! hub api -X POST -F name=%s /user/repos > repo_info.json' % repo_name)\n",
    "  repo_info = json.load(open('repo_info.json')) \n",
    "  repo_url = repo_info['clone_url']\n",
    "else:\n",
    "  for r in repos:\n",
    "    if r['name'] == repo_name:\n",
    "      repo_url = r['clone_url']\n",
    "  \n",
    "stream = open(\"/root/.config/hub\", \"r\")\n",
    "token = list(yaml.load_all(stream))[0]['github.com'][0]['oauth_token']\n",
    "repo_url_with_token = 'https://'+token+\"@\" +repo_url.split('https://')[1]\n",
    "\n",
    "! git clone \"$repo_url_with_token\"\n",
    "! cp -r \"$ASSIGNMENT_PATH\" \"$repo_name\"/\n",
    "! cd \"$repo_name\" && git add -A\n",
    "! cd \"$repo_name\" && git commit -m \"Add assignment 02 results\"\n",
    "! cd \"$repo_name\" && git push -u origin master\n",
    "\n",
    "sub_info = {\n",
    "    'student_id': student_id,\n",
    "    'student_name': student_name, \n",
    "    'repo_url': repo_url,\n",
    "    'asg_dir_contents': os.listdir(str(ASSIGNMENT_PATH)),\n",
    "    'dateime': str(time.time()),\n",
    "    'asg_name': asg_name\n",
    "}\n",
    "json.dump(sub_info, open('info.json', 'w'))\n",
    "\n",
    "Javascript(script_save)\n",
    "\n",
    "auth.authenticate_user()\n",
    "gauth = GoogleAuth()\n",
    "gauth.credentials = GoogleCredentials.get_application_default()\n",
    "drive = GoogleDrive(gauth)\n",
    "file_id = drive.ListFile({'q':\"title='%s.ipynb'\"%asg_name}).GetList()[0]['id']\n",
    "downloaded = drive.CreateFile({'id': file_id})\n",
    "downloaded.GetContentFile('%s.ipynb'%asg_name) \n",
    "\n",
    "! jupyter nbconvert --to script \"$asg_name\".ipynb > /dev/null\n",
    "! jupyter nbconvert --to html \"$asg_name\".ipynb > /dev/null\n",
    "! zip \"$submission_file_name\" \"$asg_name\".ipynb \"$asg_name\".html \"$asg_name\".txt info.json > /dev/null\n",
    "\n",
    "print(\"##########################################\")\n",
    "print(\"Done! Submisson created, Please download using the bellow cell!\")"
   ]
  },
  {
   "cell_type": "markdown",
   "metadata": {
    "button": false,
    "colab_type": "text",
    "id": "mX9OFzaLtYu_",
    "new_sheet": false,
    "run_control": {
     "read_only": false
    }
   },
   "source": [
    "## Download Submission (Run the cell)"
   ]
  },
  {
   "cell_type": "code",
   "execution_count": null,
   "metadata": {
    "button": false,
    "cellView": "both",
    "colab": {},
    "colab_type": "code",
    "id": "PUzTlnX1nS8X",
    "new_sheet": false,
    "run_control": {
     "read_only": false
    }
   },
   "outputs": [],
   "source": [
    "#@title\n",
    "files.download(submission_file_name)"
   ]
  },
  {
   "cell_type": "markdown",
   "metadata": {},
   "source": [
    "If that cell makes an error when running you can download file dl_asg02_your_struden_id_your_name.zip from left panel and files section by right-clicking on it and choosing download button."
   ]
  },
  {
   "cell_type": "markdown",
   "metadata": {
    "colab_type": "text",
    "id": "m9KaPEsgPruT"
   },
   "source": [
    "# Special Thanks"
   ]
  },
  {
   "cell_type": "markdown",
   "metadata": {
    "colab_type": "text",
    "id": "UOXZZrFjPxWO"
   },
   "source": [
    "Special thanks to Amirhossein Kazemnejad and Kiamehr Razaee for creating the template of deep learning course assignments."
   ]
  }
 ],
 "metadata": {
  "colab": {
   "collapsed_sections": [
    "-woU4Sodh6ND",
    "QfSFVOaKvlDb",
    "toUNxrGEqh3p",
    "zeDLckyY_Yuq",
    "pBjq-MvamPXO",
    "cTytERc-vlaK",
    "mX9OFzaLtYu_",
    "oJLRl0DL5aSO",
    "m9KaPEsgPruT"
   ],
   "name": "deep_assignment_01.ipynb",
   "provenance": []
  },
  "kernelspec": {
   "display_name": "Python 3",
   "language": "python",
   "name": "python3"
  },
  "language_info": {
   "codemirror_mode": {
    "name": "ipython",
    "version": 3
   },
   "file_extension": ".py",
   "mimetype": "text/x-python",
   "name": "python",
   "nbconvert_exporter": "python",
   "pygments_lexer": "ipython3",
   "version": "3.7.2"
  }
 },
 "nbformat": 4,
 "nbformat_minor": 1
}
